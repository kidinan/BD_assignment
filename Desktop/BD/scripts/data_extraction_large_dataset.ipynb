{
 "cells": [
  {
   "cell_type": "markdown",
   "metadata": {},
   "source": [
    "1. Import Necessary Libraries"
   ]
  },
  {
   "cell_type": "code",
   "execution_count": 1,
   "metadata": {},
   "outputs": [],
   "source": [
    "# Importing necessary libraries from PySpark\n",
    "from pyspark.sql import SparkSession"
   ]
  },
  {
   "cell_type": "markdown",
   "metadata": {},
   "source": [
    "2. Initialize Spark Session"
   ]
  },
  {
   "cell_type": "code",
   "execution_count": 2,
   "metadata": {},
   "outputs": [],
   "source": [
    "# Initializing the Spark session for data processing\n",
    "spark = SparkSession.builder \\\n",
    "    .appName(\"DataExtraction\") \\\n",
    "    .getOrCreate()\n"
   ]
  },
  {
   "cell_type": "markdown",
   "metadata": {},
   "source": [
    "3.Load the Dataset"
   ]
  },
  {
   "cell_type": "code",
   "execution_count": 3,
   "metadata": {},
   "outputs": [
    {
     "name": "stdout",
     "output_type": "stream",
     "text": [
      "+-------------+-------+-----------------+--------------------+-------------+----------------+--------+-----------+-------------+----------+-----------------+-----------+--------+--------------+---------------+--------+---------+---------------+\n",
      "|TransactionID| UserID|TransactionAmount|    TransactionDate1|PaymentMethod|MerchantCategory|Quantity|CustomerAge|     Location|DeviceType|TransactionStatus|Is_Declined|Is_Fraud|AccountAgeDays|TransactionDate|Latitude|Longitude|TransactionHour|\n",
      "+-------------+-------+-----------------+--------------------+-------------+----------------+--------+-----------+-------------+----------+-----------------+-----------+--------+--------------+---------------+--------+---------+---------------+\n",
      "|          1.0|29318.0|             NULL|2023-12-19 19:47:...|       PayPal|   Entertainment|     5.0|       79.0|Oklahoma City|    Tablet|          Pending|        0.0|     0.0|          31.0|     2023-06-10|    NULL|     NULL|            8.0|\n",
      "|          2.0|33379.0|         11643.05|2023-09-15 08:43:...|   Debit Card|     Electronics|     8.0|      850.0|      Chicago|    Mobile|        Completed|        0.0|     0.0|         128.0|     2023-09-16| 41.8781| -87.6298|           19.0|\n",
      "|          3.0|25503.0|          2007.01|2023-07-26 13:48:...|       PayPal|     Electronics|     1.0|       70.0|    Nashville|   Desktop|        Completed|        0.0|     0.0|        3650.0|     2023-04-14| 36.1627| -86.7816|            3.0|\n",
      "|          4.0| 7330.0|          4796.81|2023-12-30 18:32:...|  Credit Card|   Home & Garden|     5.0|       18.0|      Chicago|   Desktop|        Completed|        0.0|     0.0|         324.0|     2023-06-30| 41.8781| -87.6298|           19.0|\n",
      "|          5.0|25851.0|           5992.9|2024-03-19 00:00:...|  Credit Card|        Clothing|     8.0|       12.0|       Austin|    Mobile|          Pending|        0.0|     0.0|         311.0|     2023-12-08| 476.062| -97.7431|           19.0|\n",
      "+-------------+-------+-----------------+--------------------+-------------+----------------+--------+-----------+-------------+----------+-----------------+-----------+--------+--------------+---------------+--------+---------+---------------+\n",
      "only showing top 5 rows\n",
      "\n"
     ]
    }
   ],
   "source": [
    "# Specifying the path to the dataset\n",
    "file_path = 'C:/Users/a/Desktop/BD assignment/data/raw/ShopSpectra Transaction Dataset.csv'\n",
    "\n",
    "# Loading the dataset from the specified path\n",
    "data = spark.read.csv(file_path, header=True, inferSchema=True)\n",
    "\n",
    "# Displaying the first few rows of the loaded dataset\n",
    "data.show(5)\n"
   ]
  },
  {
   "cell_type": "markdown",
   "metadata": {},
   "source": [
    "4. Analyze and Describe the Dataset"
   ]
  },
  {
   "cell_type": "code",
   "execution_count": 4,
   "metadata": {},
   "outputs": [
    {
     "name": "stdout",
     "output_type": "stream",
     "text": [
      "+-------+------------------+------------------+------------------+----------------+-------------+----------------+------------------+------------------+---------------+----------+-----------------+-------------------+--------------------+------------------+---------------+-----------------+-------------------+------------------+\n",
      "|summary|     TransactionID|            UserID| TransactionAmount|TransactionDate1|PaymentMethod|MerchantCategory|          Quantity|       CustomerAge|       Location|DeviceType|TransactionStatus|        Is_Declined|            Is_Fraud|    AccountAgeDays|TransactionDate|         Latitude|          Longitude|   TransactionHour|\n",
      "+-------+------------------+------------------+------------------+----------------+-------------+----------------+------------------+------------------+---------------+----------+-----------------+-------------------+--------------------+------------------+---------------+-----------------+-------------------+------------------+\n",
      "|  count|           1032508|           1012388|           1009037|         1017446|      1007179|         1008283|           1038625|           1032305|        1039936|   1009467|          1018086|            1033853|             1023433|           1023714|        1023928|          1018638|            1031329|           1039141|\n",
      "|   mean|520327.71160029754|19336.816092249217| 9095.210050593058|            NULL|         NULL|            NULL| 6.582838849440366|60.885113411249584|           NULL|      NULL|             NULL| 0.1500561491817502|0.049918265289471804|274.29202101368156|           NULL|58.23192043424606|-127.07163015014689|11.261338932830098|\n",
      "| stddev| 300431.7983258859|11163.168931911372|15574.321769311118|            NULL|         NULL|            NULL|10.451017010166488|121.23451497524316|           NULL|      NULL|             NULL|0.35712662269523415| 0.21777621178756257| 565.2642409875054|           NULL|96.28972473910558|  135.8554131126897| 6.929604648673478|\n",
      "|    min|               1.0|               1.0|              1.02|      01-15-2024|Bank Transfer|      Automotive|               1.0|               1.0|         Austin|   Desktop|        Completed|                0.0|                 0.0|               1.0|     01-11-2023|          29.4241| -710.5889999999999|               0.0|\n",
      "|    max|         1040800.0|           38687.0|149999.69999999998|      29/12/2023|       PayPal|          Travel|             100.0|             850.0|Washington D.C.|    Tablet|          Pending|                1.0|                 1.0|            3650.0|     23/12/2023|          476.062|           -71.0589|              23.0|\n",
      "+-------+------------------+------------------+------------------+----------------+-------------+----------------+------------------+------------------+---------------+----------+-----------------+-------------------+--------------------+------------------+---------------+-----------------+-------------------+------------------+\n",
      "\n",
      "Total number of rows: 1054512\n",
      "Column names: ['TransactionID', 'UserID', 'TransactionAmount', 'TransactionDate1', 'PaymentMethod', 'MerchantCategory', 'Quantity', 'CustomerAge', 'Location', 'DeviceType', 'TransactionStatus', 'Is_Declined', 'Is_Fraud', 'AccountAgeDays', 'TransactionDate', 'Latitude', 'Longitude', 'TransactionHour']\n",
      "+-------------+-------+-----------------+--------------------+-------------+----------------+--------+-----------+-------------+----------+-----------------+-----------+--------+--------------+---------------+--------+---------+---------------+\n",
      "|TransactionID| UserID|TransactionAmount|    TransactionDate1|PaymentMethod|MerchantCategory|Quantity|CustomerAge|     Location|DeviceType|TransactionStatus|Is_Declined|Is_Fraud|AccountAgeDays|TransactionDate|Latitude|Longitude|TransactionHour|\n",
      "+-------------+-------+-----------------+--------------------+-------------+----------------+--------+-----------+-------------+----------+-----------------+-----------+--------+--------------+---------------+--------+---------+---------------+\n",
      "|          1.0|29318.0|             NULL|2023-12-19 19:47:...|       PayPal|   Entertainment|     5.0|       79.0|Oklahoma City|    Tablet|          Pending|        0.0|     0.0|          31.0|     2023-06-10|    NULL|     NULL|            8.0|\n",
      "|          2.0|33379.0|         11643.05|2023-09-15 08:43:...|   Debit Card|     Electronics|     8.0|      850.0|      Chicago|    Mobile|        Completed|        0.0|     0.0|         128.0|     2023-09-16| 41.8781| -87.6298|           19.0|\n",
      "|          3.0|25503.0|          2007.01|2023-07-26 13:48:...|       PayPal|     Electronics|     1.0|       70.0|    Nashville|   Desktop|        Completed|        0.0|     0.0|        3650.0|     2023-04-14| 36.1627| -86.7816|            3.0|\n",
      "|          4.0| 7330.0|          4796.81|2023-12-30 18:32:...|  Credit Card|   Home & Garden|     5.0|       18.0|      Chicago|   Desktop|        Completed|        0.0|     0.0|         324.0|     2023-06-30| 41.8781| -87.6298|           19.0|\n",
      "|          5.0|25851.0|           5992.9|2024-03-19 00:00:...|  Credit Card|        Clothing|     8.0|       12.0|       Austin|    Mobile|          Pending|        0.0|     0.0|         311.0|     2023-12-08| 476.062| -97.7431|           19.0|\n",
      "+-------------+-------+-----------------+--------------------+-------------+----------------+--------+-----------+-------------+----------+-----------------+-----------+--------+--------------+---------------+--------+---------+---------------+\n",
      "only showing top 5 rows\n",
      "\n"
     ]
    }
   ],
   "source": [
    "# Summary statistics for numerical columns\n",
    "data.describe().show()\n",
    "\n",
    "# Count the number of rows in the dataset\n",
    "row_count = data.count()\n",
    "print(f\"Total number of rows: {row_count}\")\n",
    "\n",
    "# Display column names\n",
    "columns = data.columns\n",
    "print(f\"Column names: {columns}\")\n",
    "\n",
    "# Display the first few rows of the dataset\n",
    "data.show(5)\n"
   ]
  }
 ],
 "metadata": {
  "kernelspec": {
   "display_name": "deeplearning",
   "language": "python",
   "name": "python3"
  },
  "language_info": {
   "codemirror_mode": {
    "name": "ipython",
    "version": 3
   },
   "file_extension": ".py",
   "mimetype": "text/x-python",
   "name": "python",
   "nbconvert_exporter": "python",
   "pygments_lexer": "ipython3",
   "version": "3.12.4"
  }
 },
 "nbformat": 4,
 "nbformat_minor": 2
}
